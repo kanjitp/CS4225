{
  "nbformat": 4,
  "nbformat_minor": 0,
  "metadata": {
    "colab": {
      "provenance": [],
      "include_colab_link": true
    },
    "kernelspec": {
      "name": "python3",
      "display_name": "Python 3"
    },
    "language_info": {
      "name": "python"
    }
  },
  "cells": [
    {
      "cell_type": "markdown",
      "metadata": {
        "id": "view-in-github",
        "colab_type": "text"
      },
      "source": [
        "<a href=\"https://colab.research.google.com/github/kanjitp/CS4225/blob/main/cs4225_a2_colab_KanJitpakdi.ipynb\" target=\"_parent\"><img src=\"https://colab.research.google.com/assets/colab-badge.svg\" alt=\"Open In Colab\"/></a>"
      ]
    },
    {
      "cell_type": "markdown",
      "source": [
        "## Task 1: Spark SQL (15m)"
      ],
      "metadata": {
        "id": "c9TcaCrlWvhN"
      }
    },
    {
      "cell_type": "code",
      "execution_count": 5,
      "metadata": {
        "id": "MkbrHZYEw5Cr"
      },
      "outputs": [],
      "source": [
        "# Setup Spark\n",
        "# ===============\n",
        "# Installing Spark needs to be done once each time you re-open this notebook. It should take around 10-30 seconds.\n",
        "# ===============\n",
        "# install java\n",
        "!apt-get install openjdk-8-jdk-headless -qq > /dev/null\n",
        "\n",
        "# install spark (change the version number if needed)\n",
        "!wget -q https://dlcdn.apache.org/spark/spark-3.3.2/spark-3.3.2-bin-hadoop3.tgz\n",
        "\n",
        "# unzip the spark file to the current folder\n",
        "!tar xf spark-3.3.2-bin-hadoop3.tgz\n",
        "\n",
        "# set your spark folder to your system path environment. \n",
        "import os\n",
        "os.environ[\"JAVA_HOME\"] = \"/usr/lib/jvm/java-8-openjdk-amd64\"\n",
        "os.environ[\"SPARK_HOME\"] = \"/content/spark-3.3.2-bin-hadoop3\"\n",
        "\n",
        "# install findspark using pip\n",
        "!pip install -q findspark\n",
        "import findspark\n",
        "findspark.init()\n",
        "from pyspark.sql import SparkSession\n",
        "spark = SparkSession.builder.master(\"local[*]\").getOrCreate()"
      ]
    },
    {
      "cell_type": "code",
      "source": [
        "# After downloading dataset, you should have the files in your Files (click the folder icon in the left sidebar)\n",
        "!wget -O Products_table.csv https://drive.google.com/uc?id=1FG0rGWSPWALcmFo3feHUF5TK5AP7mMwH&export=download #products\n",
        "!wget -O Sales_table.csv https://drive.google.com/uc?id=1l1fr_s67JjGGsXt3fIz_769pKPZg-jhU&export=download #sales\n",
        "!wget -O Sellers_table.csv https://drive.google.com/uc?id=1YTTYU5Cwgvau1Z7b1ShmcIhrO3VN-Zhq&export=download #sellers"
      ],
      "metadata": {
        "id": "2luSAeOXxBiQ",
        "colab": {
          "base_uri": "https://localhost:8080/"
        },
        "outputId": "6ca60aee-0412-4afc-ed47-8d29471be929"
      },
      "execution_count": 6,
      "outputs": [
        {
          "output_type": "stream",
          "name": "stdout",
          "text": [
            "--2023-03-31 16:51:29--  https://drive.google.com/uc?id=1FG0rGWSPWALcmFo3feHUF5TK5AP7mMwH\n",
            "Resolving drive.google.com (drive.google.com)... 142.250.141.101, 142.250.141.138, 142.250.141.102, ...\n",
            "Connecting to drive.google.com (drive.google.com)|142.250.141.101|:443... connected.\n",
            "HTTP request sent, awaiting response... 303 See Other\n",
            "Location: https://doc-0g-a0-docs.googleusercontent.com/docs/securesc/ha0ro937gcuc7l7deffksulhg5h7mbp1/qlhq27vduff5gl3hdkm03nmnv54s51oi/1680281475000/06948221057362969045/*/1FG0rGWSPWALcmFo3feHUF5TK5AP7mMwH?uuid=8588e53a-47c5-4592-8c05-b4f9c419f75c [following]\n",
            "Warning: wildcards not supported in HTTP.\n",
            "--2023-03-31 16:51:30--  https://doc-0g-a0-docs.googleusercontent.com/docs/securesc/ha0ro937gcuc7l7deffksulhg5h7mbp1/qlhq27vduff5gl3hdkm03nmnv54s51oi/1680281475000/06948221057362969045/*/1FG0rGWSPWALcmFo3feHUF5TK5AP7mMwH?uuid=8588e53a-47c5-4592-8c05-b4f9c419f75c\n",
            "Resolving doc-0g-a0-docs.googleusercontent.com (doc-0g-a0-docs.googleusercontent.com)... 142.250.141.132, 2607:f8b0:4023:c0b::84\n",
            "Connecting to doc-0g-a0-docs.googleusercontent.com (doc-0g-a0-docs.googleusercontent.com)|142.250.141.132|:443... connected.\n",
            "HTTP request sent, awaiting response... 200 OK\n",
            "Length: 2430503 (2.3M) [text/csv]\n",
            "Saving to: ‘Products_table.csv’\n",
            "\n",
            "Products_table.csv  100%[===================>]   2.32M  --.-KB/s    in 0.01s   \n",
            "\n",
            "2023-03-31 16:51:31 (201 MB/s) - ‘Products_table.csv’ saved [2430503/2430503]\n",
            "\n",
            "--2023-03-31 16:51:31--  https://drive.google.com/uc?id=1l1fr_s67JjGGsXt3fIz_769pKPZg-jhU\n",
            "Resolving drive.google.com (drive.google.com)... 142.250.141.101, 142.250.141.138, 142.250.141.102, ...\n",
            "Connecting to drive.google.com (drive.google.com)|142.250.141.101|:443... connected.\n",
            "HTTP request sent, awaiting response... 303 See Other\n",
            "Location: https://doc-0s-a0-docs.googleusercontent.com/docs/securesc/ha0ro937gcuc7l7deffksulhg5h7mbp1/r58s4oud27emhn6c1cooud77rkj965u7/1680281475000/06948221057362969045/*/1l1fr_s67JjGGsXt3fIz_769pKPZg-jhU?uuid=6fe1f3fa-c76e-4d6b-af05-d9166198bdbb [following]\n",
            "Warning: wildcards not supported in HTTP.\n",
            "--2023-03-31 16:51:33--  https://doc-0s-a0-docs.googleusercontent.com/docs/securesc/ha0ro937gcuc7l7deffksulhg5h7mbp1/r58s4oud27emhn6c1cooud77rkj965u7/1680281475000/06948221057362969045/*/1l1fr_s67JjGGsXt3fIz_769pKPZg-jhU?uuid=6fe1f3fa-c76e-4d6b-af05-d9166198bdbb\n",
            "Resolving doc-0s-a0-docs.googleusercontent.com (doc-0s-a0-docs.googleusercontent.com)... 142.250.141.132, 2607:f8b0:4023:c0b::84\n",
            "Connecting to doc-0s-a0-docs.googleusercontent.com (doc-0s-a0-docs.googleusercontent.com)|142.250.141.132|:443... connected.\n",
            "HTTP request sent, awaiting response... 200 OK\n",
            "Length: 6957214 (6.6M) [text/csv]\n",
            "Saving to: ‘Sales_table.csv’\n",
            "\n",
            "Sales_table.csv     100%[===================>]   6.63M  33.2MB/s    in 0.2s    \n",
            "\n",
            "2023-03-31 16:51:33 (33.2 MB/s) - ‘Sales_table.csv’ saved [6957214/6957214]\n",
            "\n",
            "--2023-03-31 16:51:33--  https://drive.google.com/uc?id=1YTTYU5Cwgvau1Z7b1ShmcIhrO3VN-Zhq\n",
            "Resolving drive.google.com (drive.google.com)... 142.250.141.101, 142.250.141.138, 142.250.141.102, ...\n",
            "Connecting to drive.google.com (drive.google.com)|142.250.141.101|:443... connected.\n",
            "HTTP request sent, awaiting response... 303 See Other\n",
            "Location: https://doc-14-a0-docs.googleusercontent.com/docs/securesc/ha0ro937gcuc7l7deffksulhg5h7mbp1/rrfrmnsqnuof25e4m8v9uhen4pihvu0m/1680281475000/06948221057362969045/*/1YTTYU5Cwgvau1Z7b1ShmcIhrO3VN-Zhq?uuid=22c44336-0ab2-4d00-a546-06b6656f3c45 [following]\n",
            "Warning: wildcards not supported in HTTP.\n",
            "--2023-03-31 16:51:34--  https://doc-14-a0-docs.googleusercontent.com/docs/securesc/ha0ro937gcuc7l7deffksulhg5h7mbp1/rrfrmnsqnuof25e4m8v9uhen4pihvu0m/1680281475000/06948221057362969045/*/1YTTYU5Cwgvau1Z7b1ShmcIhrO3VN-Zhq?uuid=22c44336-0ab2-4d00-a546-06b6656f3c45\n",
            "Resolving doc-14-a0-docs.googleusercontent.com (doc-14-a0-docs.googleusercontent.com)... 142.250.141.132, 2607:f8b0:4023:c0b::84\n",
            "Connecting to doc-14-a0-docs.googleusercontent.com (doc-14-a0-docs.googleusercontent.com)|142.250.141.132|:443... connected.\n",
            "HTTP request sent, awaiting response... 200 OK\n",
            "Length: 1077818 (1.0M) [text/csv]\n",
            "Saving to: ‘Sellers_table.csv’\n",
            "\n",
            "Sellers_table.csv   100%[===================>]   1.03M  --.-KB/s    in 0.01s   \n",
            "\n",
            "2023-03-31 16:51:34 (89.7 MB/s) - ‘Sellers_table.csv’ saved [1077818/1077818]\n",
            "\n"
          ]
        }
      ]
    },
    {
      "cell_type": "code",
      "source": [
        "# read csv files into dataframes, you can work with the 3 tables after running this code\n",
        "products_table = spark.read.option('header', True).option('inferSchema', True).csv(\"/content/Products_table.csv\").repartition(1).cache()\n",
        "sales_table = spark.read.option('header', True).option('inferSchema', True).csv(\"/content/Sales_table.csv\").repartition(1).cache()\n",
        "sellers_table = spark.read.option('header', True).option('inferSchema', True).csv(\"/content/Sellers_table.csv\").repartition(1).cache()"
      ],
      "metadata": {
        "id": "haSMnjoBxCOs"
      },
      "execution_count": 7,
      "outputs": []
    },
    {
      "cell_type": "code",
      "source": [
        "products_table"
      ],
      "metadata": {
        "id": "90QH4t_XNXM0",
        "outputId": "96360dce-f079-4cb7-bdf3-159ed0a9a7b0",
        "colab": {
          "base_uri": "https://localhost:8080/"
        }
      },
      "execution_count": 6,
      "outputs": [
        {
          "output_type": "execute_result",
          "data": {
            "text/plain": [
              "DataFrame[product_id: int, product_name: string, price: int]"
            ]
          },
          "metadata": {},
          "execution_count": 6
        }
      ]
    },
    {
      "cell_type": "code",
      "source": [
        "sales_table"
      ],
      "metadata": {
        "id": "zV9-Vp5BN73e",
        "outputId": "07b5b120-55d8-451c-caaf-27e88aec5020",
        "colab": {
          "base_uri": "https://localhost:8080/"
        }
      },
      "execution_count": 7,
      "outputs": [
        {
          "output_type": "execute_result",
          "data": {
            "text/plain": [
              "DataFrame[order_id: int, product_id: int, seller_id: int, num_of_items_sold: int]"
            ]
          },
          "metadata": {},
          "execution_count": 7
        }
      ]
    },
    {
      "cell_type": "code",
      "source": [
        "sellers_table"
      ],
      "metadata": {
        "id": "eieThlgaN8IZ",
        "outputId": "8de34c1d-d75a-4234-d005-1e6cf14f0d96",
        "colab": {
          "base_uri": "https://localhost:8080/"
        }
      },
      "execution_count": 8,
      "outputs": [
        {
          "output_type": "execute_result",
          "data": {
            "text/plain": [
              "DataFrame[seller_id: int, seller_name: string, rating: int]"
            ]
          },
          "metadata": {},
          "execution_count": 8
        }
      ]
    },
    {
      "cell_type": "code",
      "source": [
        "# add all imports\n",
        "from pyspark.sql.functions import sum, asc, desc, col"
      ],
      "metadata": {
        "id": "WQLSDTxaQ6j-"
      },
      "execution_count": 10,
      "outputs": []
    },
    {
      "cell_type": "code",
      "source": [
        "# (a) Output the top 3 most popular products sold among all sellers [2m]\n",
        "# Your table should have 1 column(s): [product_name]\n",
        "\n",
        "top_3_products = (\n",
        "    sales_table\n",
        "    .groupBy('product_id')\n",
        "    .sum('num_of_items_sold')\n",
        "    .withColumnRenamed('sum(num_of_items_sold)', 'total_items_sold')\n",
        "    .join(products_table, 'product_id')\n",
        "    .select('product_name', 'total_items_sold')\n",
        "    .orderBy(col('total_items_sold').desc())\n",
        "    .limit(3)\n",
        ")\n",
        "\n",
        "top_3_products.show()"
      ],
      "metadata": {
        "id": "vccDBf_CxC0a",
        "outputId": "a490e6ae-4667-401a-afb8-4f5aef8af1a2",
        "colab": {
          "base_uri": "https://localhost:8080/"
        }
      },
      "execution_count": 13,
      "outputs": [
        {
          "output_type": "stream",
          "name": "stdout",
          "text": [
            "+-------------+----------------+\n",
            "| product_name|total_items_sold|\n",
            "+-------------+----------------+\n",
            "|product_51270|            7506|\n",
            "|product_18759|            7465|\n",
            "|product_59652|            7308|\n",
            "+-------------+----------------+\n",
            "\n"
          ]
        }
      ]
    },
    {
      "cell_type": "code",
      "source": [
        "# (b) Find out the total sales of the products sold by sellers 1 to 10 and output the top most sold product [2m]\n",
        "# Your table should have 1 column(s): [product_name]\n",
        "\n",
        "\n",
        "from pyspark.sql.functions import col\n",
        "\n",
        "# filter the sellers for seller 1 to 10\n",
        "filtered_sellers = sales_table.filter(col('seller_id').between(1, 10))\n",
        "\n",
        "top_product_for_seller_1_to_10 = (\n",
        "    filtered_sellers\n",
        "    .groupBy('product_id')\n",
        "    .agg(sum('num_of_items_sold').alias('total_items_sold'))\n",
        "    .join(products_table, 'product_id')\n",
        "    .select('product_name', 'total_items_sold')\n",
        "    .orderBy(desc('total_items_sold'))\n",
        "    .limit(1)\n",
        ")\n",
        "\n",
        "top_product_for_seller_1_to_10.show()"
      ],
      "metadata": {
        "id": "Ljmb_1OaxC8Q",
        "outputId": "e1dc0eb5-cd07-495f-ffc4-19ee1e401e95",
        "colab": {
          "base_uri": "https://localhost:8080/"
        }
      },
      "execution_count": 16,
      "outputs": [
        {
          "output_type": "stream",
          "name": "stdout",
          "text": [
            "+-------------+----------------+\n",
            "| product_name|total_items_sold|\n",
            "+-------------+----------------+\n",
            "|product_36658|             984|\n",
            "+-------------+----------------+\n",
            "\n"
          ]
        }
      ]
    },
    {
      "cell_type": "code",
      "source": [
        "# (c) Compute the combined revenue earned from sellers where seller_id ranges from 1 to 500 inclusive. [3m]\n",
        "# Your table should have 1 column(s): [total_revenue]\n",
        "\n",
        "revenue = (\n",
        "    sales_table\n",
        "    .filter(col('seller_id').between(1, 500))\n",
        "    .join(products_table, 'product_id')\n",
        "    .withColumn('revenue', col('num_of_items_sold') * col('price'))\n",
        "    .agg(sum('revenue').alias('total_revenue'))\n",
        ")\n",
        "\n",
        "revenue.show()"
      ],
      "metadata": {
        "id": "QtinRRycxDBS",
        "outputId": "bf78a7dd-1d48-41cc-8c2f-a4506be8612a",
        "colab": {
          "base_uri": "https://localhost:8080/",
          "height": 244
        }
      },
      "execution_count": 2,
      "outputs": [
        {
          "output_type": "error",
          "ename": "NameError",
          "evalue": "ignored",
          "traceback": [
            "\u001b[0;31m---------------------------------------------------------------------------\u001b[0m",
            "\u001b[0;31mNameError\u001b[0m                                 Traceback (most recent call last)",
            "\u001b[0;32m<ipython-input-2-abba2777a39b>\u001b[0m in \u001b[0;36m<cell line: 5>\u001b[0;34m()\u001b[0m\n\u001b[1;32m      3\u001b[0m \u001b[0;34m\u001b[0m\u001b[0m\n\u001b[1;32m      4\u001b[0m revenue = (\n\u001b[0;32m----> 5\u001b[0;31m     \u001b[0msales_table\u001b[0m\u001b[0;34m\u001b[0m\u001b[0;34m\u001b[0m\u001b[0m\n\u001b[0m\u001b[1;32m      6\u001b[0m     \u001b[0;34m.\u001b[0m\u001b[0mfilter\u001b[0m\u001b[0;34m(\u001b[0m\u001b[0mcol\u001b[0m\u001b[0;34m(\u001b[0m\u001b[0;34m'seller_id'\u001b[0m\u001b[0;34m)\u001b[0m\u001b[0;34m.\u001b[0m\u001b[0mbetween\u001b[0m\u001b[0;34m(\u001b[0m\u001b[0;36m1\u001b[0m\u001b[0;34m,\u001b[0m \u001b[0;36m500\u001b[0m\u001b[0;34m)\u001b[0m\u001b[0;34m)\u001b[0m\u001b[0;34m\u001b[0m\u001b[0;34m\u001b[0m\u001b[0m\n\u001b[1;32m      7\u001b[0m     \u001b[0;34m.\u001b[0m\u001b[0mjoin\u001b[0m\u001b[0;34m(\u001b[0m\u001b[0mproducts_table\u001b[0m\u001b[0;34m,\u001b[0m \u001b[0;34m'product_id'\u001b[0m\u001b[0;34m)\u001b[0m\u001b[0;34m\u001b[0m\u001b[0;34m\u001b[0m\u001b[0m\n",
            "\u001b[0;31mNameError\u001b[0m: name 'sales_table' is not defined"
          ]
        }
      ]
    },
    {
      "cell_type": "code",
      "source": [
        "# (d) Among sellers with rating >= 4 who have achieved a combined number of products sold >= 3000, find out the top 10 most expensive product sold by any of the sellers. (If there are multiple products at the same price, please sort them in ascending order of product_id) [8m]\n",
        "# Your table should have 1 column(s): [product_name]\n",
        "# To get the full mark, your query should not run for more than 1 min\n",
        "\n",
        "\n",
        "high_rating_sellers = sellers_table.filter(col('rating') >= 4)\n",
        "\n",
        "sales_high_rating_sellers = (\n",
        "    sales_table\n",
        "    .join(high_rating_sellers, 'seller_id')\n",
        "    .groupBy('product_id')\n",
        "    .agg(sum('num_of_items_sold').alias('total_items_sold'))\n",
        "    .filter(col('total_items_sold') >= 3000)\n",
        ")\n",
        "\n",
        "top_expensive_products = (\n",
        "    sales_high_rating_sellers\n",
        "    .join(products_table, 'product_id')\n",
        "    .select('product_name', 'price')\n",
        "    .orderBy(desc('price'), asc('product_id'))\n",
        "    .limit(10)\n",
        ")\n",
        "\n",
        "top_expensive_products.show()\n"
      ],
      "metadata": {
        "id": "S-iyIoUKxada",
        "outputId": "ea491e13-682b-4081-d776-1e9a3bdeda64",
        "colab": {
          "base_uri": "https://localhost:8080/"
        }
      },
      "execution_count": 11,
      "outputs": [
        {
          "output_type": "stream",
          "name": "stdout",
          "text": [
            "+-------------+-----+\n",
            "| product_name|price|\n",
            "+-------------+-----+\n",
            "|product_78653|  200|\n",
            "| product_3513|  199|\n",
            "| product_4859|  199|\n",
            "|product_97925|  199|\n",
            "|product_59293|  197|\n",
            "| product_4508|  196|\n",
            "|product_84229|  196|\n",
            "|product_29995|  194|\n",
            "|product_40941|  194|\n",
            "|product_71454|  194|\n",
            "+-------------+-----+\n",
            "\n"
          ]
        }
      ]
    },
    {
      "cell_type": "code",
      "source": [
        "high_rating_sellers = sellers_table.filter(col('rating') >= 4)\n",
        "\n",
        "top_expensive_products_v3 = (\n",
        "    sales_table\n",
        "    .join(high_rating_sellers, 'seller_id')\n",
        "    .groupBy('product_id')\n",
        "    .agg(sum('num_of_items_sold').alias('total_items_sold'))\n",
        "    .filter(col('total_items_sold') >= 3000)\n",
        "    .join(products_table, 'product_id')\n",
        "    .select('product_name', 'price')\n",
        "    .orderBy(desc('price'), asc('product_id'))\n",
        "    .limit(10)\n",
        ")\n",
        "\n",
        "top_expensive_products_v3.show()\n"
      ],
      "metadata": {
        "id": "rclEVtnjmXJj",
        "outputId": "e88136fb-d95e-485d-8a4c-6ebf150190de",
        "colab": {
          "base_uri": "https://localhost:8080/"
        }
      },
      "execution_count": 17,
      "outputs": [
        {
          "output_type": "stream",
          "name": "stdout",
          "text": [
            "+-------------+-----+\n",
            "| product_name|price|\n",
            "+-------------+-----+\n",
            "|product_78653|  200|\n",
            "| product_3513|  199|\n",
            "| product_4859|  199|\n",
            "|product_97925|  199|\n",
            "|product_59293|  197|\n",
            "| product_4508|  196|\n",
            "|product_84229|  196|\n",
            "|product_29995|  194|\n",
            "|product_40941|  194|\n",
            "|product_71454|  194|\n",
            "+-------------+-----+\n",
            "\n"
          ]
        }
      ]
    },
    {
      "cell_type": "code",
      "source": [
        "sellers_filtered = sellers_table.filter('rating >= 4')\n",
        "sellers_joined = sellers_filtered.join(df_joined, \"seller_id\", \"inner\")\n",
        "\n",
        "sellers_grouped = sellers_joined.groupBy('seller_name').sum('num_of_items_sold').filter('sum(num_of_items_sold) >= 3000')\n",
        "\n",
        "sellers_rejoined = sellers_grouped.join(sellers_joined, \"seller_name\", 'inner')\n",
        "\n",
        "sellers_rejoined = sellers_rejoined.orderBy(['price', 'product_id']).withColumn(\"index\", monotonically_increasing_id()).orderBy(desc(\"index\")).drop(\"index\")\n",
        "sellers_rejoined.select('product_name', 'price').show(10)"
      ],
      "metadata": {
        "id": "7-3texC8p03p",
        "outputId": "59f5ed3a-43b3-4b42-eea3-a8b8d7d437d3",
        "colab": {
          "base_uri": "https://localhost:8080/",
          "height": 244
        }
      },
      "execution_count": 18,
      "outputs": [
        {
          "output_type": "error",
          "ename": "NameError",
          "evalue": "ignored",
          "traceback": [
            "\u001b[0;31m---------------------------------------------------------------------------\u001b[0m",
            "\u001b[0;31mNameError\u001b[0m                                 Traceback (most recent call last)",
            "\u001b[0;32m<ipython-input-18-c4a62dcde9ba>\u001b[0m in \u001b[0;36m<cell line: 2>\u001b[0;34m()\u001b[0m\n\u001b[1;32m      1\u001b[0m \u001b[0msellers_filtered\u001b[0m \u001b[0;34m=\u001b[0m \u001b[0msellers_table\u001b[0m\u001b[0;34m.\u001b[0m\u001b[0mfilter\u001b[0m\u001b[0;34m(\u001b[0m\u001b[0;34m'rating >= 4'\u001b[0m\u001b[0;34m)\u001b[0m\u001b[0;34m\u001b[0m\u001b[0;34m\u001b[0m\u001b[0m\n\u001b[0;32m----> 2\u001b[0;31m \u001b[0msellers_joined\u001b[0m \u001b[0;34m=\u001b[0m \u001b[0msellers_filtered\u001b[0m\u001b[0;34m.\u001b[0m\u001b[0mjoin\u001b[0m\u001b[0;34m(\u001b[0m\u001b[0mdf_joined\u001b[0m\u001b[0;34m,\u001b[0m \u001b[0;34m\"seller_id\"\u001b[0m\u001b[0;34m,\u001b[0m \u001b[0;34m\"inner\"\u001b[0m\u001b[0;34m)\u001b[0m\u001b[0;34m\u001b[0m\u001b[0;34m\u001b[0m\u001b[0m\n\u001b[0m\u001b[1;32m      3\u001b[0m \u001b[0;34m\u001b[0m\u001b[0m\n\u001b[1;32m      4\u001b[0m \u001b[0msellers_grouped\u001b[0m \u001b[0;34m=\u001b[0m \u001b[0msellers_joined\u001b[0m\u001b[0;34m.\u001b[0m\u001b[0mgroupBy\u001b[0m\u001b[0;34m(\u001b[0m\u001b[0;34m'seller_name'\u001b[0m\u001b[0;34m)\u001b[0m\u001b[0;34m.\u001b[0m\u001b[0msum\u001b[0m\u001b[0;34m(\u001b[0m\u001b[0;34m'num_of_items_sold'\u001b[0m\u001b[0;34m)\u001b[0m\u001b[0;34m.\u001b[0m\u001b[0mfilter\u001b[0m\u001b[0;34m(\u001b[0m\u001b[0;34m'sum(num_of_items_sold) >= 3000'\u001b[0m\u001b[0;34m)\u001b[0m\u001b[0;34m\u001b[0m\u001b[0;34m\u001b[0m\u001b[0m\n\u001b[1;32m      5\u001b[0m \u001b[0;34m\u001b[0m\u001b[0m\n",
            "\u001b[0;31mNameError\u001b[0m: name 'df_joined' is not defined"
          ]
        }
      ]
    },
    {
      "cell_type": "markdown",
      "source": [
        "## Task 2: Spark ML (10m)"
      ],
      "metadata": {
        "id": "f_mZhcusW0-Y"
      }
    },
    {
      "cell_type": "code",
      "source": [
        "# Setup Spark\n",
        "# ===============\n",
        "# Installing Spark needs to be done once each time you re-open this notebook. It should take around 10-30 seconds.\n",
        "# ===============\n",
        "# install java\n",
        "!apt-get install openjdk-8-jdk-headless -qq > /dev/null\n",
        "\n",
        "# install spark (change the version number if needed)\n",
        "!wget -q https://dlcdn.apache.org/spark/spark-3.3.2/spark-3.3.2-bin-hadoop3.tgz\n",
        "\n",
        "# unzip the spark file to the current folder\n",
        "!tar xf spark-3.3.2-bin-hadoop3.tgz\n",
        "\n",
        "# set your spark folder to your system path environment. \n",
        "import os\n",
        "os.environ[\"JAVA_HOME\"] = \"/usr/lib/jvm/java-8-openjdk-amd64\"\n",
        "os.environ[\"SPARK_HOME\"] = \"/content/spark-3.3.2-bin-hadoop3\"\n",
        "\n",
        "# install findspark using pip\n",
        "!pip install -q findspark\n",
        "import findspark\n",
        "findspark.init()\n",
        "from pyspark.sql import SparkSession\n",
        "spark = SparkSession.builder.master(\"local[*]\").getOrCreate()"
      ],
      "metadata": {
        "id": "HxxRailSWpb0"
      },
      "execution_count": null,
      "outputs": []
    },
    {
      "cell_type": "code",
      "source": [
        "# After downloading dataset, you should have the files in your Files (click the folder icon in the left sidebar)\n",
        "!wget -O bank_train.csv https://drive.google.com/uc?id=1kEP94BfULB3gUMl_IQCg9wuX4IJRajMC&export=download #products\n",
        "!wget -O bank_test.csv https://drive.google.com/uc?id=1EqX4liL5iWbwqyJ_lFaYvYZvgBFwpwSJ&export=download #bank_test"
      ],
      "metadata": {
        "id": "qCqPHSerW_al",
        "colab": {
          "base_uri": "https://localhost:8080/"
        },
        "outputId": "4e47bc1e-dcef-4a0e-a212-fa2cb40fd3c9"
      },
      "execution_count": null,
      "outputs": [
        {
          "output_type": "stream",
          "name": "stdout",
          "text": [
            "--2023-03-05 13:59:46--  https://drive.google.com/uc?id=1kEP94BfULB3gUMl_IQCg9wuX4IJRajMC\n",
            "Resolving drive.google.com (drive.google.com)... 142.251.8.102, 142.251.8.113, 142.251.8.100, ...\n",
            "Connecting to drive.google.com (drive.google.com)|142.251.8.102|:443... connected.\n",
            "HTTP request sent, awaiting response... 303 See Other\n",
            "Location: https://doc-0c-a8-docs.googleusercontent.com/docs/securesc/ha0ro937gcuc7l7deffksulhg5h7mbp1/6a3e19tqodgib3pccobtlthqmdiclhtv/1678024725000/08487103376102314083/*/1kEP94BfULB3gUMl_IQCg9wuX4IJRajMC?uuid=d11faedd-8c48-4734-aa0b-18efe2a56d2e [following]\n",
            "Warning: wildcards not supported in HTTP.\n",
            "--2023-03-05 13:59:47--  https://doc-0c-a8-docs.googleusercontent.com/docs/securesc/ha0ro937gcuc7l7deffksulhg5h7mbp1/6a3e19tqodgib3pccobtlthqmdiclhtv/1678024725000/08487103376102314083/*/1kEP94BfULB3gUMl_IQCg9wuX4IJRajMC?uuid=d11faedd-8c48-4734-aa0b-18efe2a56d2e\n",
            "Resolving doc-0c-a8-docs.googleusercontent.com (doc-0c-a8-docs.googleusercontent.com)... 142.250.157.132, 2404:6800:4008:c13::84\n",
            "Connecting to doc-0c-a8-docs.googleusercontent.com (doc-0c-a8-docs.googleusercontent.com)|142.250.157.132|:443... connected.\n",
            "HTTP request sent, awaiting response... 200 OK\n",
            "Length: 730948 (714K) [text/csv]\n",
            "Saving to: ‘bank_train.csv’\n",
            "\n",
            "bank_train.csv      100%[===================>] 713.82K  --.-KB/s    in 0.006s  \n",
            "\n",
            "2023-03-05 13:59:47 (125 MB/s) - ‘bank_train.csv’ saved [730948/730948]\n",
            "\n",
            "--2023-03-05 13:59:47--  https://drive.google.com/uc?id=1EqX4liL5iWbwqyJ_lFaYvYZvgBFwpwSJ\n",
            "Resolving drive.google.com (drive.google.com)... 142.251.8.102, 142.251.8.113, 142.251.8.100, ...\n",
            "Connecting to drive.google.com (drive.google.com)|142.251.8.102|:443... connected.\n",
            "HTTP request sent, awaiting response... 303 See Other\n",
            "Location: https://doc-08-a8-docs.googleusercontent.com/docs/securesc/ha0ro937gcuc7l7deffksulhg5h7mbp1/rkbtpgg27v2cn72q9ctopd4jq0s78b5a/1678024725000/08487103376102314083/*/1EqX4liL5iWbwqyJ_lFaYvYZvgBFwpwSJ?uuid=a43cbd1e-1501-4e67-bb91-6bcc3290a4f6 [following]\n",
            "Warning: wildcards not supported in HTTP.\n",
            "--2023-03-05 13:59:48--  https://doc-08-a8-docs.googleusercontent.com/docs/securesc/ha0ro937gcuc7l7deffksulhg5h7mbp1/rkbtpgg27v2cn72q9ctopd4jq0s78b5a/1678024725000/08487103376102314083/*/1EqX4liL5iWbwqyJ_lFaYvYZvgBFwpwSJ?uuid=a43cbd1e-1501-4e67-bb91-6bcc3290a4f6\n",
            "Resolving doc-08-a8-docs.googleusercontent.com (doc-08-a8-docs.googleusercontent.com)... 142.250.157.132, 2404:6800:4008:c13::84\n",
            "Connecting to doc-08-a8-docs.googleusercontent.com (doc-08-a8-docs.googleusercontent.com)|142.250.157.132|:443... connected.\n",
            "HTTP request sent, awaiting response... 200 OK\n",
            "Length: 182844 (179K) [text/csv]\n",
            "Saving to: ‘bank_test.csv’\n",
            "\n",
            "bank_test.csv       100%[===================>] 178.56K  --.-KB/s    in 0.002s  \n",
            "\n",
            "2023-03-05 13:59:49 (101 MB/s) - ‘bank_test.csv’ saved [182844/182844]\n",
            "\n"
          ]
        }
      ]
    },
    {
      "cell_type": "code",
      "source": [
        "bank_train_location = \"/content/bank_train.csv\"\n",
        "bank_test_location = \"/content/bank_test.csv\"\n",
        "file_type = \"csv\"\n",
        "\n",
        "# CSV options\n",
        "infer_schema = \"true\"\n",
        "first_row_is_header = \"true\"\n",
        "delimiter = \",\"\n",
        "\n",
        "# The applied options are for CSV files. For other file types, these will be ignored.\n",
        "bank_train = spark.read.format(file_type) \\\n",
        "  .option(\"inferSchema\", infer_schema) \\\n",
        "  .option(\"header\", first_row_is_header) \\\n",
        "  .option(\"sep\", delimiter) \\\n",
        "  .load(bank_train_location)\n",
        "\n",
        "bank_test = spark.read.format(file_type) \\\n",
        "  .option(\"inferSchema\", infer_schema) \\\n",
        "  .option(\"header\", first_row_is_header) \\\n",
        "  .option(\"sep\", delimiter) \\\n",
        "  .load(bank_test_location)"
      ],
      "metadata": {
        "id": "VV27jT7wWoHc"
      },
      "execution_count": null,
      "outputs": []
    },
    {
      "cell_type": "markdown",
      "source": [
        "Build ML model to predict whether the customer will subscribe bank deposit service or not. Train the model using training set and evaluate the model performance (e.g. accuracy) using testing set.\n",
        "\n",
        "\n",
        "*   You can explore different methods to pre-process the data and select proper features\n",
        "*   You can explore different methods to pre-process the data and select proper features\n",
        "*   Present the final testing accuracy."
      ],
      "metadata": {
        "id": "fIoXrjaq5OG-"
      }
    },
    {
      "cell_type": "code",
      "source": [
        "# data preparation (4m)\n"
      ],
      "metadata": {
        "id": "tMW6Ltcr5J06"
      },
      "execution_count": null,
      "outputs": []
    },
    {
      "cell_type": "code",
      "source": [
        "# model building (4m)"
      ],
      "metadata": {
        "id": "PaULiAZv5Npd"
      },
      "execution_count": null,
      "outputs": []
    },
    {
      "cell_type": "code",
      "source": [
        "# model evaluation (2m)"
      ],
      "metadata": {
        "id": "ZYTCRALv5iyF"
      },
      "execution_count": null,
      "outputs": []
    }
  ]
}